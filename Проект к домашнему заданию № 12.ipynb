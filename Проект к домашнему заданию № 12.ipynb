{
 "cells": [
  {
   "cell_type": "markdown",
   "metadata": {},
   "source": [
    "# __Домашняя работа к заданию № 12__"
   ]
  },
  {
   "cell_type": "markdown",
   "metadata": {},
   "source": [
    "C:\\Users\\Mad\\Desktop\\Screenshot_1.jpg"
   ]
  },
  {
   "cell_type": "markdown",
   "metadata": {},
   "source": [
    "Ссылка на бота в Телеграмм: https://t.me/Mad_Yoda_bot"
   ]
  },
  {
   "cell_type": "markdown",
   "metadata": {},
   "source": [
    "## Импорт необходимых бибилиотек"
   ]
  },
  {
   "cell_type": "code",
   "execution_count": null,
   "metadata": {},
   "outputs": [
    {
     "ename": "",
     "evalue": "",
     "output_type": "error",
     "traceback": [
      "\u001b[1;31mДля выполнения ячеек с \"Python 3.8.10 ('venv': venv)\" требуется пакет ipykernel.\n",
      "\u001b[1;31mВыполните следующую команду, чтобы установить \"ipykernel\" в среде Python. \n",
      "\u001b[1;31mКоманда: \"c:/Users/Mad/Downloads/2_Программирование/Kornet58/venv/Scripts/python.exe -m pip install ipykernel -U --force-reinstall\""
     ]
    }
   ],
   "source": [
    "import asyncio  # Импорт модуля для асинхронного программирования\n",
    "import random  # Импорт модуля для работы со случайными числами\n",
    "from aiogram import Bot, Dispatcher, types  # Импорт основных классов aiogram\n",
    "from aiogram.filters import Command  # Импорт фильтра для обработки команд\n",
    "from aiogram.utils.keyboard import ReplyKeyboardBuilder, InlineKeyboardBuilder  # Импорт инструментов для создания клавиатур\n",
    "from aiogram import F  # Импорт фильтров\n",
    "from collections import defaultdict  # Импорт специального словаря"
   ]
  },
  {
   "cell_type": "markdown",
   "metadata": {},
   "source": [
    "__Создание экземпляра бота с токеном__"
   ]
  },
  {
   "cell_type": "code",
   "execution_count": null,
   "metadata": {},
   "outputs": [],
   "source": [
    "bot = Bot(token=\"7599159158:AAFBKNHna16td-Kcfnkmaxbpc_GdrkA9LqM\")\n",
    "# Создание диспетчера для обработки сообщений\n",
    "dp = Dispatcher()"
   ]
  },
  {
   "cell_type": "markdown",
   "metadata": {},
   "source": [
    "__Данные для квиза (вопросы и варианты ответов)__"
   ]
  },
  {
   "cell_type": "code",
   "execution_count": null,
   "metadata": {},
   "outputs": [],
   "source": [
    "quiz_data = [\n",
    "    {\n",
    "        'question': '1. Что такое Python?',\n",
    "        'options': [\n",
    "            'Язык программирования высокого уровня',\n",
    "            'База данных',\n",
    "            'Графический редактор',\n",
    "            'Операционная система'\n",
    "        ],\n",
    "        'correct_option': 0\n",
    "    },\n",
    "    {\n",
    "        'question': '2. Работу с какими типами данных поддерживает Python?',\n",
    "        'options': [\n",
    "            'Целые числа, строки, списки, словари',\n",
    "            'Только числа и строки',\n",
    "            'Только числовые типы',\n",
    "            'Только текстовые данные'\n",
    "        ],\n",
    "        'correct_option': 0\n",
    "    },\n",
    "    {\n",
    "        'question': '3. Что такое PEP 8?',\n",
    "        'options': [\n",
    "            'Руководство по стилю кода Python',\n",
    "            'Версия Python 8',\n",
    "            'Модуль для работы с датами',\n",
    "            'Протокол передачи данных'\n",
    "        ],\n",
    "        'correct_option': 0\n",
    "    },\n",
    "    {\n",
    "        'question': '4. Как в Python работает умножение строк?',\n",
    "        'options': [\n",
    "            'Повторяет строку указанное количество раз',\n",
    "            'Конкатенирует строки',\n",
    "            'Преобразует строку в число и умножает',\n",
    "            'Умножение строк не поддерживается'\n",
    "        ],\n",
    "        'correct_option': 0\n",
    "    },\n",
    "    {\n",
    "        'question': '5. Как в Python работает умножение списков?',\n",
    "        'options': [\n",
    "            'Повторяет элементы списка указанное количество раз',\n",
    "            'Перемножает элементы списка между собой',\n",
    "            'Создает матрицу из списков',\n",
    "            'Умножение списков не поддерживается'\n",
    "        ],\n",
    "        'correct_option': 0\n",
    "    },\n",
    "    {\n",
    "        'question': '6. В чем разница между списками и кортежами?',\n",
    "        'options': [\n",
    "            'Списки изменяемы, кортежи нет',\n",
    "            'Кортежи изменяемы, списки нет',\n",
    "            'Кортежи могут содержать только числа',\n",
    "            'Разницы нет, это одно и то же'\n",
    "        ],\n",
    "        'correct_option': 0\n",
    "    },\n",
    "    {\n",
    "        'question': '7. Как развернуть список в Python?',\n",
    "        'options': [\n",
    "            'Использовать срез [::-1]',\n",
    "            'Метод reverse()',\n",
    "            'Функция reversed()',\n",
    "            'Все варианты верны'\n",
    "        ],\n",
    "        'correct_option': 3\n",
    "    },\n",
    "    {\n",
    "        'question': '8. Как работает функция range?',\n",
    "        'options': [\n",
    "            'Генерирует последовательность чисел',\n",
    "            'Возвращает случайное число в заданном диапазоне',\n",
    "            'Находит диапазон значений в списке',\n",
    "            'Создает диапазон дат'\n",
    "        ],\n",
    "        'correct_option': 0\n",
    "    },\n",
    "    {\n",
    "        'question': '9. Что можно использовать в качестве ключа словаря?',\n",
    "        'options': [\n",
    "            'Неизменяемые типы данных',\n",
    "            'Любые типы данных',\n",
    "            'Только строки',\n",
    "            'Только числа'\n",
    "        ],\n",
    "        'correct_option': 0\n",
    "    },\n",
    "    {\n",
    "        'question': '10. Как выполняется код на Python?',\n",
    "        'options': [\n",
    "            'Интерпретируется построчно',\n",
    "            'Компилируется в машинный код',\n",
    "            'Преобразуется в байт-код Java',\n",
    "            'Все варианты верны'\n",
    "        ],\n",
    "        'correct_option': 0\n",
    "    },\n",
    "    {\n",
    "        'question': '11. Где поиск выполняется быстрей: в списках или словарях?',\n",
    "        'options': [\n",
    "            'В словарях (O(1) в среднем)',\n",
    "            'В списках (O(1))',\n",
    "            'Скорость одинаковая',\n",
    "            'Зависит от размера данных'\n",
    "        ],\n",
    "        'correct_option': 0\n",
    "    }\n",
    "]\n"
   ]
  },
  {
   "cell_type": "markdown",
   "metadata": {},
   "source": [
    "__Создание хранилищ с данными__"
   ]
  },
  {
   "cell_type": "code",
   "execution_count": null,
   "metadata": {},
   "outputs": [],
   "source": [
    "user_quiz_index = {}  # Текущий вопрос для пользователя\n",
    "user_answers = {}     # Ответы пользователя\n",
    "user_stats = defaultdict(dict)  # Статистика пользователей\n",
    "user_shuffled_options = {}  # Перемешанные варианты ответов"
   ]
  },
  {
   "cell_type": "markdown",
   "metadata": {},
   "source": [
    "Создание Хэндлеров для выполнения команд внутри бота, "
   ]
  },
  {
   "cell_type": "code",
   "execution_count": null,
   "metadata": {},
   "outputs": [],
   "source": [
    "# Хэндлер на команду /start\n",
    "@dp.message(Command(\"start\"))\n",
    "async def cmd_start(message: types.Message):\n",
    "    builder = ReplyKeyboardBuilder()  # Создание билдера для клавиатуры\n",
    "    builder.add(types.KeyboardButton(text=\"Начать игру\"))  # Добавление кнопки \"Начать игру\"\n",
    "    builder.add(types.KeyboardButton(text=\"Моя статистика\"))  # Добавление кнопки \"Моя статистика\"\n",
    "    await message.answer(\n",
    "        \"Добро пожаловать в Python квиз!\\n\"\n",
    "        \"Проверьте свои знания языка Python.\\n\"\n",
    "        \"Нажмите 'Начать игру' или введите /quiz\",\n",
    "        reply_markup=builder.as_markup(resize_keyboard=True)  # Отправка сообщения с клавиатурой\n",
    "    )\n",
    "\n",
    "# Хэндлер на кнопку \"Моя статистика\" и команду /stats\n",
    "@dp.message(F.text == \"Моя статистика\")\n",
    "@dp.message(Command(\"stats\"))\n",
    "async def cmd_stats(message: types.Message):\n",
    "    user_id = message.from_user.id  # Получение ID пользователя\n",
    "    stats = user_stats.get(user_id, {})  # Получение статистики пользователя\n",
    "    \n",
    "    if not stats:\n",
    "        await message.answer(\"Вы еще не играли в квиз. Начните игру!\")  # Сообщение если статистики нет\n",
    "    else:\n",
    "        await message.answer(\n",
    "            f\"📊 Ваша статистика:\\n\"\n",
    "            f\"Последний результат: {stats.get('last_score', 0)}/{len(quiz_data)}\\n\"\n",
    "            f\"Всего игр: {stats.get('total_played', 0)}\"  # Вывод статистики пользователя\n",
    "        )\n",
    "\n",
    "# Хэндлер на кнопку \"Начать игру\" и команду /quiz\n",
    "@dp.message(F.text == \"Начать игру\")\n",
    "@dp.message(Command(\"quiz\"))\n",
    "async def cmd_quiz(message: types.Message):\n",
    "    user_id = message.from_user.id  # Получение ID пользователя\n",
    "    await new_quiz(message)  # Запуск нового квиза"
   ]
  },
  {
   "cell_type": "markdown",
   "metadata": {},
   "source": [
    "__Добавление обработчика ответов__"
   ]
  },
  {
   "cell_type": "code",
   "execution_count": null,
   "metadata": {},
   "outputs": [],
   "source": [
    "@dp.callback_query(F.data.startswith(\"answer_\"))\n",
    "async def handle_answer(callback: types.CallbackQuery):\n",
    "    await callback.answer()  # Подтверждение получения callback\n",
    "    user_id = callback.from_user.id  # Получение ID пользователя\n",
    "    current_index = await get_quiz_index(user_id)  # Получение текущего индекса вопроса\n",
    "    \n",
    "    question_data = quiz_data[current_index]  # Получение данных текущего вопроса\n",
    "    shuffled_options = user_shuffled_options[user_id][current_index]  # Получение перемешанных вариантов\n",
    "    selected_option = int(callback.data.split(\"_\")[1])  # Получение выбранного варианта\n",
    "    \n",
    "    original_correct_option = question_data['options'][question_data['correct_option']]  # Получение правильного ответа\n",
    "    correct_option_index = shuffled_options.index(original_correct_option)  # Получение индекса правильного ответа в перемешанных вариантах\n",
    "    is_correct = selected_option == correct_option_index  # Проверка правильности ответа\n",
    "    \n",
    "    user_answers[user_id] = user_answers.get(user_id, [])  # Инициализация списка ответов пользователя\n",
    "    user_answers[user_id].append({  # Добавление информации об ответе\n",
    "        'question': question_data['question'],\n",
    "        'selected': shuffled_options[selected_option],\n",
    "        'correct': original_correct_option,\n",
    "        'is_correct': is_correct\n",
    "    })\n",
    "    \n",
    "    if is_correct:\n",
    "        response_message = f\"✅ Ваш ответ: {shuffled_options[selected_option]}\\nПравильно!\"  # Сообщение при правильном ответе\n",
    "    else:\n",
    "        response_message = f\"❌ Ваш ответ: {shuffled_options[selected_option]}\\n✅ Правильный ответ: {original_correct_option}\"  # Сообщение при неправильном ответе\n",
    "    \n",
    "    await callback.message.answer(response_message)  # Отправка сообщения с результатом\n",
    "    \n",
    "    try:\n",
    "        await callback.message.edit_reply_markup(reply_markup=None)  # Удаление клавиатуры\n",
    "    except:\n",
    "        pass\n",
    "    \n",
    "    current_index += 1  # Переход к следующему вопросу\n",
    "    if current_index < len(quiz_data):\n",
    "        await update_quiz_index(user_id, current_index)  # Обновление индекса вопроса\n",
    "        await get_question(callback.message, user_id)  # Получение следующего вопроса\n",
    "    else:\n",
    "        correct_answers = sum(1 for ans in user_answers[user_id] if ans['is_correct'])  # Подсчет правильных ответов\n",
    "        total_questions = len(quiz_data)  # Получение общего количества вопросов\n",
    "        \n",
    "        user_stats[user_id]['last_score'] = correct_answers  # Обновление статистики\n",
    "        user_stats[user_id]['total_played'] = user_stats[user_id].get('total_played', 0) + 1  # Увеличение счетчика игр\n",
    "        \n",
    "        # Формирование сообщения с результатами\n",
    "        result_message = (\n",
    "            f\"🎉 Квиз завершен!\\n\"\n",
    "            f\"Ваш результат: {correct_answers}/{total_questions}\\n\\n\"\n",
    "            f\"📝 Детализация ответов:\\n\"\n",
    "        )\n",
    "        \n",
    "        # Добавляем детализацию по каждому вопросу без дублирования номеров\n",
    "        for i, answer in enumerate(user_answers[user_id], 1):\n",
    "            # Убираем номер из вопроса, так как мы добавляем его сами\n",
    "            question_text = answer['question'].split('. ', 1)[1] if '. ' in answer['question'] else answer['question']\n",
    "            \n",
    "            if answer['is_correct']:\n",
    "                result_message += (\n",
    "                    f\"{i}. {question_text}\\n\"\n",
    "                    f\"   ✅ Ваш ответ: {answer['selected']}\\n\"\n",
    "                    f\"   (Правильно)\\n\\n\"\n",
    "                )\n",
    "            else:\n",
    "                result_message += (\n",
    "                    f\"{i}. {question_text}\\n\"\n",
    "                    f\"   ❌ Ваш ответ: {answer['selected']}\\n\"\n",
    "                    f\"   ✅ Правильный ответ: {answer['correct']}\\n\\n\"\n",
    "                )\n",
    "        \n",
    "        await callback.message.answer(result_message)  # Отправка результатов\n",
    "        await update_quiz_index(user_id, 0)  # Сброс индекса вопроса\n",
    "        del user_shuffled_options[user_id]  # Удаление перемешанных вариантов для пользователя"
   ]
  },
  {
   "cell_type": "markdown",
   "metadata": {},
   "source": [
    "__Создание функции для генерации кнопок__"
   ]
  },
  {
   "cell_type": "code",
   "execution_count": null,
   "metadata": {},
   "outputs": [],
   "source": [
    "def generate_options_keyboard(options):\n",
    "    builder = InlineKeyboardBuilder()  # Создание билдера инлайн-клавиатуры\n",
    "    for index, option in enumerate(options):\n",
    "        builder.add(types.InlineKeyboardButton(\n",
    "            text=option,\n",
    "            callback_data=f\"answer_{index}\"  # Создание кнопки с callback данными\n",
    "        ))\n",
    "    builder.adjust(1)  # Настройка расположения кнопок\n",
    "    return builder.as_markup()  # Возврат готовой клавиатуры"
   ]
  },
  {
   "cell_type": "markdown",
   "metadata": {},
   "source": [
    "__Создание функции для получения вопроса__"
   ]
  },
  {
   "cell_type": "code",
   "execution_count": null,
   "metadata": {},
   "outputs": [],
   "source": [
    "async def get_question(message, user_id):\n",
    "    current_index = await get_quiz_index(user_id)  # Получение текущего индекса вопроса\n",
    "    question_data = quiz_data[current_index]  # Получение данных вопроса\n",
    "    \n",
    "    # Перемешиваем варианты ответов для этого вопроса\n",
    "    shuffled_options = question_data['options'].copy()\n",
    "    random.shuffle(shuffled_options)\n",
    "    \n",
    "    # Сохраняем перемешанные варианты\n",
    "    if user_id not in user_shuffled_options:\n",
    "        user_shuffled_options[user_id] = {}\n",
    "    user_shuffled_options[user_id][current_index] = shuffled_options\n",
    "    \n",
    "    kb = generate_options_keyboard(shuffled_options)  # Генерация клавиатуры\n",
    "    await message.answer(question_data['question'], reply_markup=kb)  # Отправка вопроса с клавиатурой"
   ]
  },
  {
   "cell_type": "markdown",
   "metadata": {},
   "source": [
    "__Создание функции для запуска квиза__"
   ]
  },
  {
   "cell_type": "code",
   "execution_count": null,
   "metadata": {},
   "outputs": [],
   "source": [
    "async def new_quiz(message):\n",
    "    user_id = message.from_user.id  # Получение ID пользователя\n",
    "    await update_quiz_index(user_id, 0)  # Сброс индекса вопроса\n",
    "    user_answers[user_id] = []  # Очистка предыдущих ответов\n",
    "    await message.answer(\"Давайте начнём квиз! Отвечайте на вопросы по порядку:\")  # Приветственное сообщение\n",
    "    await get_question(message, user_id)  # Получение первого вопроса"
   ]
  },
  {
   "cell_type": "markdown",
   "metadata": {},
   "source": [
    "__Функция обновления индекса вопроса для пользователя__"
   ]
  },
  {
   "cell_type": "code",
   "execution_count": null,
   "metadata": {},
   "outputs": [],
   "source": [
    "async def update_quiz_index(user_id, index):\n",
    "    user_quiz_index[user_id] = index "
   ]
  },
  {
   "cell_type": "markdown",
   "metadata": {},
   "source": [
    "__Функция получения индекса вопроса для пользователя__"
   ]
  },
  {
   "cell_type": "code",
   "execution_count": null,
   "metadata": {},
   "outputs": [],
   "source": [
    "async def get_quiz_index(user_id):\n",
    "    return user_quiz_index.get(user_id, 0)"
   ]
  },
  {
   "cell_type": "markdown",
   "metadata": {},
   "source": [
    "__Запуск бота__"
   ]
  },
  {
   "cell_type": "code",
   "execution_count": null,
   "metadata": {},
   "outputs": [],
   "source": [
    "async def main():\n",
    "    await dp.start_polling(bot)"
   ]
  },
  {
   "cell_type": "markdown",
   "metadata": {},
   "source": [
    "__Асинхронный запуск функции__"
   ]
  },
  {
   "cell_type": "code",
   "execution_count": null,
   "metadata": {},
   "outputs": [],
   "source": [
    "if __name__ == \"__main__\":\n",
    "    asyncio.run(main())"
   ]
  }
 ],
 "metadata": {
  "kernelspec": {
   "display_name": "Python 3.8.10 ('venv': venv)",
   "language": "python",
   "name": "python3"
  },
  "language_info": {
   "name": "python",
   "version": "3.8.10"
  },
  "orig_nbformat": 4,
  "vscode": {
   "interpreter": {
    "hash": "c9db684f8b12b82d7159e479a79574a90fc64134aa562cc276867b6299fffa86"
   }
  }
 },
 "nbformat": 4,
 "nbformat_minor": 2
}
